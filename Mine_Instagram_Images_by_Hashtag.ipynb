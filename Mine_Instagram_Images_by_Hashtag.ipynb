{
  "nbformat": 4,
  "nbformat_minor": 0,
  "metadata": {
    "colab": {
      "name": "Mine Instagram Images by Hashtag",
      "provenance": [],
      "collapsed_sections": [],
      "toc_visible": true,
      "include_colab_link": true
    },
    "kernelspec": {
      "name": "python3",
      "display_name": "Python 3"
    },
    "accelerator": "GPU"
  },
  "cells": [
    {
      "cell_type": "markdown",
      "metadata": {
        "id": "view-in-github",
        "colab_type": "text"
      },
      "source": [
        "<a href=\"https://colab.research.google.com/github/Josh-Been/Mining-Reddit-Instagram/blob/master/Mine_Instagram_Images_by_Hashtag.ipynb\" target=\"_parent\"><img src=\"https://colab.research.google.com/assets/colab-badge.svg\" alt=\"Open In Colab\"/></a>"
      ]
    },
    {
      "cell_type": "markdown",
      "metadata": {
        "id": "5MVgcrK4ORx3",
        "colab_type": "text"
      },
      "source": [
        "![Baylor Libraries: Digital Scholarship](https://cpb-us-w2.wpmucdn.com/blogs.baylor.edu/dist/7/7192/files/2019/08/cropped-DigitalScholarshipblog_header-2019-08-30-1.jpg)\n",
        "\n",
        "# Mine Instagram by Hashtag\n",
        "\n",
        "Primary Libraries Used\n",
        "\n",
        "*   OCR Text from Images [Github: tesseract-ocr](https://github.com/tesseract-ocr/tesseract)\n",
        "*   Recognize Objects in Images [Github: ImageAI](https://github.com/OlafenwaMoses/ImageAI)\n",
        "\n",
        "Thank you to the following helpful guides\n",
        "\n",
        "*   [How to Scrape Data from Instagram using Python](https://www.promptcloud.com/blog/how-to-scrape-instagram-data-using-python/)\n",
        "*   [Bhadresh Savani: OCR from Image using Pytesseract in Python on Colab Notebook?](https://medium.com/@bhadreshpsavani/how-to-use-tesseract-library-for-ocr-in-google-colab-notebook-5da5470e4fe0)\n",
        "*   [Object Detection with 10 lines of code](https://towardsdatascience.com/object-detection-with-10-lines-of-code-d6cb4d86f606)\n",
        "\n",
        "02/2020, Josh Been"
      ]
    },
    {
      "cell_type": "markdown",
      "metadata": {
        "id": "uloHWkgfOqjO",
        "colab_type": "text"
      },
      "source": [
        "# Step 1 - Specify Hashtags to Search\n",
        "\n",
        "Enter the hashtags you want to mine images. Separate hashtags by a comma.\n",
        "\n",
        "For example, hashes = ['baylor', 'waco']\n",
        "\n",
        "Run the following snippet. Wait until it specifies complete before moving to the next snippet."
      ]
    },
    {
      "cell_type": "code",
      "metadata": {
        "id": "v2rgqSXuL1lE",
        "colab_type": "code",
        "colab": {}
      },
      "source": [
        "hashes = ['']\n",
        "cursor='  >> '\n",
        "print(cursor, 'Move onto the next snippet.')"
      ],
      "execution_count": 0,
      "outputs": []
    },
    {
      "cell_type": "markdown",
      "metadata": {
        "id": "hb8hu5psPI1u",
        "colab_type": "text"
      },
      "source": [
        "# Step 2 - Write List of Images to File\n",
        "\n",
        "Run the following snippet.\n",
        "\n",
        "When it is complete, check Files on the left for a text file containing image urls of each hashtag included in step #1."
      ]
    },
    {
      "cell_type": "code",
      "metadata": {
        "id": "mMBKPNeZLTe2",
        "colab_type": "code",
        "colab": {}
      },
      "source": [
        "import pandas, requests, urllib.request, urllib.parse, urllib.error, ssl, json\n",
        "from bs4 import BeautifulSoup\n",
        "from google.colab import output\n",
        "import urllib.request\n",
        "\n",
        "class Insta_Image_Links_Scraper:\n",
        "\n",
        "    def getlinks(self, hashtag, url):\n",
        "\n",
        "        html = urllib.request.urlopen(url, context=self.ctx).read()\n",
        "        soup = BeautifulSoup(html, 'html.parser')\n",
        "        script = soup.find('script', text=lambda t: \\\n",
        "                           t.startswith('window._sharedData'))\n",
        "        page_json = script.text.split(' = ', 1)[1].rstrip(';')\n",
        "        data = json.loads(page_json)\n",
        "        print (cursor, 'Scraping links with #' + hashtag+\"...........\")\n",
        "        for post in data['entry_data']['TagPage'][0]['graphql'\n",
        "                ]['hashtag']['edge_hashtag_to_media']['edges']:\n",
        "            image_src = post['node']['thumbnail_resources'][1]['src']\n",
        "            hs = open(hashtag + '.txt', 'a')\n",
        "            hs.write(image_src + '\\n')\n",
        "            hs.close()\n",
        "\n",
        "    def main(self):\n",
        "        self.ctx = ssl.create_default_context()\n",
        "        self.ctx.check_hostname = False\n",
        "        self.ctx.verify_mode = ssl.CERT_NONE\n",
        "       \n",
        "        self.content=hashes\n",
        "        for hashtag in self.content:\n",
        "            self.getlinks(hashtag,\n",
        "                          'https://www.instagram.com/explore/tags/'\n",
        "                          + hashtag + '/')\n",
        "\n",
        "\n",
        "if __name__ == '__main__':\n",
        "    obj = Insta_Image_Links_Scraper()\n",
        "    obj.main()\n",
        "\n",
        "print(cursor, 'Complete.')    "
      ],
      "execution_count": 0,
      "outputs": []
    },
    {
      "cell_type": "markdown",
      "metadata": {
        "id": "52XNBuSzpmn-",
        "colab_type": "text"
      },
      "source": [
        "# Step 3 - Download Images to Folder and Zip\n",
        "\n",
        "This step will download all of the images identified in the previous step and create a .zip file that can be downloaded to your computer."
      ]
    },
    {
      "cell_type": "code",
      "metadata": {
        "id": "ZIFAmmatejd0",
        "colab_type": "code",
        "colab": {}
      },
      "source": [
        "import os, shutil\n",
        "from google.colab import files\n",
        "\n",
        "for hashtag in hashes:\n",
        "  if not os.path.isdir(hashtag):\n",
        "    os.mkdir(hashtag)\n",
        "  with open(hashtag+'.txt') as f:\n",
        "    content = f.readlines()\n",
        "    content = [x.strip() for x in content]\n",
        "  i=0\n",
        "  existing_files=[]\n",
        "  for link in content:\n",
        "    i+=1\n",
        "    # print(link)\n",
        "    filename = link.split('/')[-1].split('?')[0]\n",
        "    while filename in existing_files:\n",
        "        filename=filename+'1'\n",
        "        print('yep')\n",
        "    existing_files.append(filename)\n",
        "    urllib.request.urlretrieve(link, hashtag+'/'+filename)\n",
        "    \n",
        "  shutil.make_archive(hashtag, 'zip', hashtag)\n",
        "\n",
        "print(cursor, 'Complete.')    "
      ],
      "execution_count": 0,
      "outputs": []
    },
    {
      "cell_type": "markdown",
      "metadata": {
        "id": "jSO3vo2sWmhg",
        "colab_type": "text"
      },
      "source": [
        "# Step 4 - OCR Text From Images\n",
        "\n",
        "Extract text from images. Clean text and then write to new CSV spreadsheet."
      ]
    },
    {
      "cell_type": "code",
      "metadata": {
        "id": "9FWB5yv2G4Tg",
        "colab_type": "code",
        "colab": {}
      },
      "source": [
        "print(cursor, 'Install Tesseract OCR')\n",
        "!sudo apt install tesseract-ocr\n",
        "!pip install pytesseract\n",
        "output.clear()\n",
        "\n",
        "print(cursor, 'Install Tesseract OCR')\n",
        "print(cursor, 'Installation completed')\n",
        "import pytesseract, shutil, os, random, glob, spacy\n",
        "import pandas as pd\n",
        "try:\n",
        "    from PIL import Image\n",
        "except ImportError:\n",
        "    import Image\n",
        "nlp = spacy.load(\"en_core_web_sm\")\n",
        "imgtxt=[]\n",
        "urls=[]\n",
        "htag=[]\n",
        "for hashtag in hashes:\n",
        "    print(cursor, 'Processing', hashtag)\n",
        "    fileset = [file for file in glob.glob(hashtag + \"/*\", recursive=True)]\n",
        "    i=1\n",
        "    for file in fileset:\n",
        "        htag.append(hashtag)\n",
        "        word_list=[]\n",
        "        obtained_txt=pytesseract.image_to_string(Image.open(file))\n",
        "        obtained_text=obtained_txt.lower()\n",
        "        doc=nlp(obtained_txt)\n",
        "        for token in doc:\n",
        "            word_list.append(token.text.lower().replace('\\n',''))\n",
        "        extractedInformation=' '.join(word_list)\n",
        "        imgtxt.append(extractedInformation)\n",
        "        urls.append(file.split('/')[1])\n",
        "        i+=1\n",
        "\n",
        "df_img = pd.DataFrame(htag, columns =['hashtag'])\n",
        "df_img['img2txt']=imgtxt\n",
        "df_img['img']=urls\n",
        "\n",
        "df_img.to_csv('INSTAGRAM.csv', index=False)"
      ],
      "execution_count": 0,
      "outputs": []
    },
    {
      "cell_type": "markdown",
      "metadata": {
        "id": "6_Sj-PluQ_5d",
        "colab_type": "text"
      },
      "source": [
        "# Step 5 - Install ImageAI"
      ]
    },
    {
      "cell_type": "code",
      "metadata": {
        "id": "atxLziSGz5kx",
        "colab_type": "code",
        "colab": {}
      },
      "source": [
        "print(cursor,'Installing imageai')\n",
        "!pip install imageai --upgrade\n",
        "output.clear()\n",
        "print(cursor,'Installing imageai')\n",
        "import urllib.request\n",
        "urllib.request.urlretrieve (\"https://github.com/OlafenwaMoses/ImageAI/releases/download/1.0/resnet50_coco_best_v2.0.1.h5\", \"resnet50_coco_best_v2.0.1.h5\")\n",
        "print(cursor, 'Completed')"
      ],
      "execution_count": 0,
      "outputs": []
    },
    {
      "cell_type": "markdown",
      "metadata": {
        "id": "Qw4bRRH2RLed",
        "colab_type": "text"
      },
      "source": [
        "# Step 6 - Recognize Objects\n",
        "[AI Details](https://github.com/OlafenwaMoses/ImageAI/blob/master/imageai/Detection/README.md)"
      ]
    },
    {
      "cell_type": "code",
      "metadata": {
        "id": "i3AmWirIcMoT",
        "colab_type": "code",
        "colab": {}
      },
      "source": [
        "%tensorflow_version 1.x\n",
        "from imageai.Detection import ObjectDetection\n",
        "import os\n",
        "from IPython.display import Image\n",
        "\n",
        "recognized_items={}\n",
        "for hashtag in hashes:\n",
        "    print(cursor, 'Processing hasahtag:', hashtag)\n",
        "    if not os.path.isfile(hashtag+'/resnet50_coco_best_v2.0.1.h5'): \n",
        "        shutil.move('resnet50_coco_best_v2.0.1.h5', hashtag+'/resnet50_coco_best_v2.0.1.h5')\n",
        "    execution_path = hashtag\n",
        "    fileset = [file for file in glob.glob(hashtag + \"/*\", recursive=True)]\n",
        "    i=0\n",
        "    \n",
        "    # [:10] is first 10 only\n",
        "    for img in fileset[:10]:\n",
        "        i+=1 \n",
        "        img_=img.split('/')[1]\n",
        "        print(cursor, 'processing image', i)\n",
        "        detector = ObjectDetection()\n",
        "        detector.setModelTypeAsRetinaNet()\n",
        "        detector.setModelPath( os.path.join(execution_path , \"resnet50_coco_best_v2.0.1.h5\"))\n",
        "        detector.loadModel()\n",
        "        detections = detector.detectObjectsFromImage(input_image=os.path.join(execution_path , img_), output_image_path=os.path.join(execution_path , img_.replace('.jpg','_new.jpg')))\n",
        "        if i==1:\n",
        "            output.clear()\n",
        "            print(cursor, 'Processing hasahtag:', hashtag)\n",
        "            print(cursor, 'processing image', i)\n",
        "        if len(detections)>0:\n",
        "            display(Image(hashtag+'/'+img_.replace('.jpg','_new.jpg')))\n",
        "            for eachObject in detections:\n",
        "                print(eachObject[\"name\"] , \" : \" , eachObject[\"percentage_probability\"] )\n",
        "                if eachObject[\"name\"] in recognized_items:\n",
        "                    recognized_items[eachObject[\"name\"]]+=1\n",
        "                else:\n",
        "                    recognized_items[eachObject[\"name\"]]=1\n",
        "        else:\n",
        "            print(cursor, 'No objects recognized')\n",
        "    shutil.move(hashtag+'/resnet50_coco_best_v2.0.1.h5', 'resnet50_coco_best_v2.0.1.h5')"
      ],
      "execution_count": 0,
      "outputs": []
    },
    {
      "cell_type": "markdown",
      "metadata": {
        "id": "teEUI5fNRUV7",
        "colab_type": "text"
      },
      "source": [
        "# Step 7 - Column Chart of Recognized Images"
      ]
    },
    {
      "cell_type": "code",
      "metadata": {
        "id": "Q5Bz21-wFDgj",
        "colab_type": "code",
        "colab": {}
      },
      "source": [
        "import pylab as pl\n",
        "import numpy as np\n",
        "\n",
        "X = np.arange(len(recognized_items))\n",
        "pl.bar(X, recognized_items.values(), align='center', width=0.5)\n",
        "pl.xticks(X, recognized_items.keys())\n",
        "ymax = max(recognized_items.values()) + 1\n",
        "pl.ylim(0, ymax)\n",
        "pl.show()"
      ],
      "execution_count": 0,
      "outputs": []
    }
  ]
}